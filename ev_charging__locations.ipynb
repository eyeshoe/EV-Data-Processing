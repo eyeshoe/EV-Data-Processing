{
  "nbformat": 4,
  "nbformat_minor": 0,
  "metadata": {
    "colab": {
      "provenance": [],
      "include_colab_link": true
    },
    "kernelspec": {
      "name": "python3",
      "display_name": "Python 3"
    },
    "language_info": {
      "name": "python"
    }
  },
  "cells": [
    {
      "cell_type": "markdown",
      "metadata": {
        "id": "view-in-github",
        "colab_type": "text"
      },
      "source": [
        "<a href=\"https://colab.research.google.com/github/eyeshoe/EV-Data-Processing/blob/main/ev_charging__locations.ipynb\" target=\"_parent\"><img src=\"https://colab.research.google.com/assets/colab-badge.svg\" alt=\"Open In Colab\"/></a>"
      ]
    },
    {
      "cell_type": "code",
      "execution_count": 1,
      "metadata": {
        "id": "UN8HD6xrTP2a"
      },
      "outputs": [],
      "source": [
        "import requests\n",
        "import pandas as pd"
      ]
    },
    {
      "cell_type": "code",
      "source": [
        "# get data from api\n",
        "url = \"https://developer.nrel.gov/api/alt-fuel-stations/v1.json\"\n",
        "params = {\n",
        "    \"api_key\": \"NZCThOVvRQRq8mhldeIcDYhe3q3YT6coh02o9ncb\",\n",
        "    \"fuel_type\": \"ELEC\",\n",
        "    \"access\": \"public\",\n",
        "    \"status\": \"E\",\n",
        "    \"state\": \"CA\",\n",
        "    \"county\": \"Orange\"}\n",
        "\n",
        "response = requests.get(url, params=params)\n",
        "data = response.json()"
      ],
      "metadata": {
        "id": "Te5FAtTpTsRu"
      },
      "execution_count": 2,
      "outputs": []
    },
    {
      "cell_type": "code",
      "source": [
        "stations = []\n",
        "\n",
        "# check if the API request was successful\n",
        "if response.status_code == 200:\n",
        "    for station in data['fuel_stations']:\n",
        "        station_name = station['station_name']\n",
        "        latitude = station['latitude']\n",
        "        longitude = station['longitude']\n",
        "        stations.append([station_name, latitude, longitude])\n",
        "\n",
        "\n",
        "else:\n",
        "    # example data to mimic API response if not successful\n",
        "    stations = [\n",
        "        ['Saint Pope Kerollos VI Coptic Church', 33.76078834762684, -117.9786035114052],\n",
        "        ['Woodland Corporate Center II', 38.676983, -121.766402],\n",
        "        ['Century Park Parking SE & NE', 34.058659, -118.412867],\n",
        "        ['Century Park Parking SW & NW', 34.058925, -118.415803],\n",
        "        ['Palm Springs Art Museum', 33.82444462779711, -116.5499856751055],\n",
        "        ['OAKMONT MANAGE STATION 1', 34.071003, -117.86146],\n",
        "        ['Raley\\'s Citrus Heights #239', 38.70884, -121.31367],\n",
        "        ['King City Town Square', 36.213483, -121.127147],\n",
        "        ['Nob Hill Campbell #606', 37.285859, -121.9783434]\n",
        "    ]\n",
        "\n",
        "\n"
      ],
      "metadata": {
        "id": "LNfnEUjkT8PL"
      },
      "execution_count": 3,
      "outputs": []
    },
    {
      "cell_type": "code",
      "source": [
        "# convert the data into a dataframe with latitude and longitude columns\n",
        "df = pd.DataFrame(stations, columns=['Station Name', 'Latitude', 'Longitude'])\n",
        "\n",
        "\n",
        "print(df)"
      ],
      "metadata": {
        "colab": {
          "base_uri": "https://localhost:8080/"
        },
        "id": "fPQDl3MGiNXc",
        "outputId": "57e3536c-23fc-48ae-d31c-0437527810cc"
      },
      "execution_count": 4,
      "outputs": [
        {
          "output_type": "stream",
          "name": "stdout",
          "text": [
            "                                 Station Name   Latitude   Longitude\n",
            "0               Los Angeles Convention Center  34.040539 -118.271387\n",
            "1                      Scripps Green Hospital  32.899470 -117.243000\n",
            "2                               Galpin Motors  34.221665 -118.468371\n",
            "3                           Galleria at Tyler  33.909914 -117.459053\n",
            "4      City of Pasadena - Holly Street Garage  34.147620 -118.147111\n",
            "...                                       ...        ...         ...\n",
            "16066                  Kolb Elementary School  37.712532 -121.857795\n",
            "16067                Amador Elementary School  37.719194 -121.843411\n",
            "16068   City of Santa Cruz - Capitola Library  36.978685 -121.958129\n",
            "16069                         MAYAEV MAYAEV-4  38.529689 -122.733228\n",
            "16070           Creekside Center - Hayward CA  37.684440 -122.098440\n",
            "\n",
            "[16071 rows x 3 columns]\n"
          ]
        }
      ]
    },
    {
      "cell_type": "code",
      "source": [
        "# save the dataframe to a CSV file\n",
        "df.to_csv('OC_stations_data.csv', index=False)\n",
        "\n",
        "# display message confirming the file was saved\n",
        "print(\"Data has been saved to oc_stations_data.csv\")"
      ],
      "metadata": {
        "colab": {
          "base_uri": "https://localhost:8080/"
        },
        "id": "BuR-RZovimL-",
        "outputId": "1f872e52-5643-496c-f9ce-dfa71fa93704"
      },
      "execution_count": 5,
      "outputs": [
        {
          "output_type": "stream",
          "name": "stdout",
          "text": [
            "Data has been saved to stations_data.csv\n"
          ]
        }
      ]
    }
  ]
}